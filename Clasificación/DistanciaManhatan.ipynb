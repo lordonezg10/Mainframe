{
 "cells": [
  {
   "cell_type": "code",
   "execution_count": null,
   "metadata": {},
   "outputs": [],
   "source": [
    "import random as rn\n",
    "import pandas as pd\n",
    "import numpy as np\n",
    "import math as mt"
   ]
  },
  {
   "cell_type": "code",
   "execution_count": null,
   "metadata": {},
   "outputs": [],
   "source": [
    "def CargarDatos():\n",
    "    frame = pd.DataFrame()\n",
    "    categorias = [rn.randint(1,30) for _ in range(100)]\n",
    "    idpeliculas = rn.sample([r for r in range (0,1000)],100)\n",
    "    frame = pd.DataFrame({'Categorias': categorias, 'IdPeliculas': idpeliculas})\n",
    "    return (frame)\n",
    "data = CargarDatos()\n",
    "data"
   ]
  },
  {
   "cell_type": "code",
   "execution_count": null,
   "metadata": {},
   "outputs": [],
   "source": [
    "def DistanciaManhatan(x1, y1, x2, y2):\n",
    "    d = np.abs(x2-x1)+np.abs(y2-y1)\n",
    "    return d\n",
    "DistanciaManhatan(10,10,20,20)"
   ]
  },
  {
   "cell_type": "code",
   "execution_count": null,
   "metadata": {},
   "outputs": [],
   "source": [
    "x = 25\n",
    "y = 100\n",
    "def Recomendar(dt, x, y):\n",
    "    dist = DistanciaManhatan(dt.loc[:,'Categorias'], dt.loc[:,'IdPeliculas'], x, y)\n",
    "    dt['Distancia'] = dist\n",
    "    return dt\n",
    "recom = Recomendar(data, x, y)\n",
    "recom"
   ]
  },
  {
   "cell_type": "code",
   "execution_count": null,
   "metadata": {},
   "outputs": [],
   "source": [
    "def Top5(dt):\n",
    "    top = np.sort(dt.loc[:,'Distancia'])\n",
    "    return top[:5]\n",
    "top5 = Top5(recom)\n",
    "top5"
   ]
  },
  {
   "cell_type": "code",
   "execution_count": null,
   "metadata": {},
   "outputs": [],
   "source": [
    "def DeterminarPelicula(top, dt):\n",
    "    boolean = dt.Distancia.isin(top)\n",
    "    islong = pd.Series(boolean)\n",
    "    return dt[islong]\n",
    "peliculas = DeterminarPelicula(top5, recom)\n",
    "peliculas"
   ]
  },
  {
   "cell_type": "code",
   "execution_count": null,
   "metadata": {},
   "outputs": [],
   "source": []
  }
 ],
 "metadata": {
  "kernelspec": {
   "display_name": "Python 3",
   "language": "python",
   "name": "python3"
  },
  "language_info": {
   "codemirror_mode": {
    "name": "ipython",
    "version": 3
   },
   "file_extension": ".py",
   "mimetype": "text/x-python",
   "name": "python",
   "nbconvert_exporter": "python",
   "pygments_lexer": "ipython3",
   "version": "3.6.5"
  }
 },
 "nbformat": 4,
 "nbformat_minor": 2
}
