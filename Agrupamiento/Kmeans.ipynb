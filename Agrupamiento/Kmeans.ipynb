{
 "cells": [
  {
   "cell_type": "code",
   "execution_count": null,
   "metadata": {},
   "outputs": [],
   "source": [
    "import random as rn\n",
    "import pandas as pd\n",
    "import numpy as np\n",
    "import math as mt"
   ]
  },
  {
   "cell_type": "code",
   "execution_count": null,
   "metadata": {},
   "outputs": [],
   "source": [
    "def CargarDatos():\n",
    "    frame = pd.DataFrame()\n",
    "    valores = {\"X\":(14,15,14,16,18,20),\n",
    "               \"Y\":(28,29,30,35,28,43)}\n",
    "    frame = pd.DataFrame(valores)\n",
    "    return (frame)\n",
    "data = CargarDatos()\n",
    "data"
   ]
  },
  {
   "cell_type": "code",
   "execution_count": null,
   "metadata": {},
   "outputs": [],
   "source": [
    "p1 = np.array([0,0])\n",
    "p1"
   ]
  },
  {
   "cell_type": "code",
   "execution_count": null,
   "metadata": {},
   "outputs": [],
   "source": [
    "p2 = np.array([50,50])\n",
    "p2"
   ]
  },
  {
   "cell_type": "code",
   "execution_count": null,
   "metadata": {},
   "outputs": [],
   "source": [
    "def CalcularDistancias(dt):\n",
    "    v = [None]*dt.X.size\n",
    "    for i in range(dt.X.size):\n",
    "        d1 = np.sqrt(np.power((dt.X[i:]-p1[0]),2)+np.power((dt.Y[i:]-p1[1]),2))\n",
    "        d2 = np.sqrt(np.power((dt.X[i:]-p2[0]),2)+np.power((dt.Y[i:]-p2[1]),2))\n",
    "        row = np.where(d1<=d2, 1, 2)\n",
    "        v[i] = row\n",
    "    dt['V']=v[0]\n",
    "    return dt\n",
    "valDist = CalcularDistancias(data)\n",
    "valDist"
   ]
  },
  {
   "cell_type": "code",
   "execution_count": null,
   "metadata": {},
   "outputs": [],
   "source": [
    "def ActualizarPuntos(dt, p1, p2):\n",
    "    sx1 = 0\n",
    "    sx2 = 0\n",
    "    sy1 = 0\n",
    "    sy2 = 0\n",
    "    c1 = 0\n",
    "    c2 = 0\n",
    "    for i in range(dt.X.size):\n",
    "        if(dt.V[i] == 1):\n",
    "            sx1 += dt.X[i] \n",
    "            sy1 += dt.Y[i] \n",
    "            c1+=1\n",
    "        else:\n",
    "            sx2 += dt.X[i] \n",
    "            sy2 += dt.Y[i] \n",
    "            c2+=1\n",
    "    p1[0] = sx1/c1\n",
    "    p1[1] = sy1/c1\n",
    "    p2[0] = sx2/c2\n",
    "    p2[1] = sy2/c2\n",
    "    puntos = {\"P1\": (p1),\n",
    "              \"P2\": (p2)}\n",
    "    newPuntos = pd.DataFrame(puntos)\n",
    "    return newPuntos\n",
    "ActualizarPuntos(valDist, p1, p2)"
   ]
  },
  {
   "cell_type": "code",
   "execution_count": null,
   "metadata": {},
   "outputs": [],
   "source": [
    "def Kmeans(dt, p1, p2):\n",
    "    while True:\n",
    "        x1 = p1[0]\n",
    "        y1 =p1[1]\n",
    "        x2 = p2[0]\n",
    "        y2 = p2[1]\n",
    "        val = CalcularDistancias(dt)\n",
    "        new = ActualizarPuntos(val, p1, p2)\n",
    "        p1 = new.P1\n",
    "        p2 = new.P2\n",
    "        if(x1 == p1[0] and y1 == p1[1] and x2 == p2[0] and y2 == p2[1]):\n",
    "            break\n",
    "    return new\n",
    "Kmeans(data, p1, p2)"
   ]
  },
  {
   "cell_type": "code",
   "execution_count": null,
   "metadata": {},
   "outputs": [],
   "source": []
  }
 ],
 "metadata": {
  "kernelspec": {
   "display_name": "Python 3",
   "language": "python",
   "name": "python3"
  },
  "language_info": {
   "codemirror_mode": {
    "name": "ipython",
    "version": 3
   },
   "file_extension": ".py",
   "mimetype": "text/x-python",
   "name": "python",
   "nbconvert_exporter": "python",
   "pygments_lexer": "ipython3",
   "version": "3.6.5"
  }
 },
 "nbformat": 4,
 "nbformat_minor": 2
}
