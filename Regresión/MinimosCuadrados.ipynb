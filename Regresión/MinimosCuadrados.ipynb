{
 "cells": [
  {
   "cell_type": "code",
   "execution_count": null,
   "metadata": {},
   "outputs": [],
   "source": [
    "import random as rn\n",
    "import pandas as pd\n",
    "import numpy as np\n",
    "import math as mt"
   ]
  },
  {
   "cell_type": "code",
   "execution_count": null,
   "metadata": {},
   "outputs": [],
   "source": [
    "def CargarDatos():\n",
    "    frame = pd.DataFrame()\n",
    "    x = [14,7,13,12,16,14,18,13,12,16,13]\n",
    "    y = [16,12,13,14,15,12,16,11,13,18,17]\n",
    "    frame = pd.DataFrame({'X': x, 'Y': y})\n",
    "    return (frame)\n",
    "data = CargarDatos()\n",
    "data"
   ]
  },
  {
   "cell_type": "code",
   "execution_count": null,
   "metadata": {},
   "outputs": [],
   "source": [
    "def CalcularMatriz(dt):\n",
    "    xy = dt.loc[:,'X']*dt.loc[:,'Y']\n",
    "    x2 = dt.loc[:,'X']*dt.loc[:,'X']\n",
    "    y2 = dt.loc[:,'Y']*dt.loc[:,'Y']\n",
    "    dt['XY'] = xy\n",
    "    dt['X2'] = x2\n",
    "    dt['Y2'] = y2\n",
    "    sx = sum(dt.X)\n",
    "    sy = sum(dt.Y)\n",
    "    sxy = sum(dt.XY)\n",
    "    sx2 = sum(dt.X2)\n",
    "    sy2 = sum(dt.Y2)\n",
    "    row = pd.DataFrame([[sx, sy, sxy, sx2, sy2]], columns=['X','Y','XY','X2','Y2'])\n",
    "    dt = dt.append(row, ignore_index=True)\n",
    "    return dt\n",
    "matriz = CalcularMatriz(data)\n",
    "matriz"
   ]
  },
  {
   "cell_type": "code",
   "execution_count": null,
   "metadata": {},
   "outputs": [],
   "source": [
    "def CalcularMinCuad(dt):\n",
    "    promx = dt.X[11:]/11\n",
    "    promy = dt.Y[11:]/11\n",
    "    cantx = dt.X.size - 1\n",
    "    canty = dt.Y.size - 1\n",
    "    cantxy = cantx + canty\n",
    "    pendiente = (dt.XY[11:] - ((dt.X[11:] * dt.Y[11:])/cantxy))/(dt.X2[11:] - ((dt.X[11:])/cantxy));\n",
    "    cortey = promy - pendiente * promx\n",
    "    dt = pd.DataFrame([[promx, promy, cantx, canty, cantxy, pendiente, cortey]], \n",
    "                      columns=['PromX','PromY','CantX','CantY','CantXY','Pendiente','CorteY'])\n",
    "    return dt\n",
    "CalcularMinCuad(matriz)"
   ]
  },
  {
   "cell_type": "code",
   "execution_count": null,
   "metadata": {},
   "outputs": [],
   "source": []
  }
 ],
 "metadata": {
  "kernelspec": {
   "display_name": "Python 3",
   "language": "python",
   "name": "python3"
  },
  "language_info": {
   "codemirror_mode": {
    "name": "ipython",
    "version": 3
   },
   "file_extension": ".py",
   "mimetype": "text/x-python",
   "name": "python",
   "nbconvert_exporter": "python",
   "pygments_lexer": "ipython3",
   "version": "3.6.5"
  }
 },
 "nbformat": 4,
 "nbformat_minor": 2
}
