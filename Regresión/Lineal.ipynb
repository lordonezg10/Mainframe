{
 "cells": [
  {
   "cell_type": "code",
   "execution_count": null,
   "metadata": {},
   "outputs": [],
   "source": [
    "import random as rn\n",
    "import pandas as pd\n",
    "import numpy as np\n",
    "import math as mt"
   ]
  },
  {
   "cell_type": "code",
   "execution_count": null,
   "metadata": {},
   "outputs": [],
   "source": [
    "def CargarDatos():\n",
    "    frame = pd.DataFrame()\n",
    "    x = [14,7,13,12,16,14,18,13,12,16,13]\n",
    "    y = [16,12,13,14,15,12,16,11,13,18,17]\n",
    "    frame = pd.DataFrame({'X': x, 'Y': y})\n",
    "    return (frame)\n",
    "data = CargarDatos()\n",
    "data"
   ]
  },
  {
   "cell_type": "code",
   "execution_count": null,
   "metadata": {},
   "outputs": [],
   "source": [
    "def CalcularMatriz(dt):\n",
    "    xy = dt.loc[:,'X']*dt.loc[:,'Y']\n",
    "    x2 = dt.loc[:,'X']*dt.loc[:,'X']\n",
    "    y2 = dt.loc[:,'Y']*dt.loc[:,'Y']\n",
    "    dt['XY'] = xy\n",
    "    dt['X2'] = x2\n",
    "    dt['Y2'] = y2\n",
    "    sx = sum(dt.X)\n",
    "    sy = sum(dt.Y)\n",
    "    sxy = sum(dt.XY)\n",
    "    sx2 = sum(dt.X2)\n",
    "    sy2 = sum(dt.Y2)\n",
    "    row = pd.DataFrame([[sx, sy, sxy, sx2, sy2]], columns=['X','Y','XY','X2','Y2'])\n",
    "    dt = dt.append(row, ignore_index=True)\n",
    "    return dt\n",
    "matriz = CalcularMatriz(data)\n",
    "matriz"
   ]
  },
  {
   "cell_type": "code",
   "execution_count": null,
   "metadata": {},
   "outputs": [],
   "source": [
    "def CalcularR(dt):\n",
    "    promx = dt.X[11:]/11\n",
    "    promy = dt.Y[11:]/11\n",
    "    promx2 = promx*promx\n",
    "    promy2 = promy*promy\n",
    "    covxy = (dt.XY[11:]/11)-(promx*promy)\n",
    "    desvx = mt.sqrt((dt.X2[11:]/11)-promx2)\n",
    "    desvy = mt.sqrt((dt.Y2[11:]/11)-promy2)\n",
    "    r = (covxy)/(desvx*desvy)\n",
    "    dt = pd.DataFrame([[promx, promy, covxy, desvx, desvy, r]], \n",
    "                      columns=['PromX','PromY','CovXY','DesvX','DesvY','R'])\n",
    "    return dt\n",
    "R = CalcularR(matriz)\n",
    "R"
   ]
  },
  {
   "cell_type": "code",
   "execution_count": null,
   "metadata": {},
   "outputs": [],
   "source": [
    "def ObtenerY(dt, x):\n",
    "    ny = ((dt.CovXY/(dt.DesvX*dt.DesvX))*(x-dt.PromX))+dt.PromY\n",
    "    return ny\n",
    "ObtenerY(R,10)"
   ]
  },
  {
   "cell_type": "code",
   "execution_count": null,
   "metadata": {},
   "outputs": [],
   "source": [
    "def ObtenerX(dt, y):\n",
    "    nx = ((dt.CovXY/(dt.DesvY*dt.DesvY))*(y-dt.PromY))+dt.PromX\n",
    "    return nx\n",
    "ObtenerX(R,10)"
   ]
  }
 ],
 "metadata": {
  "kernelspec": {
   "display_name": "Python 3",
   "language": "python",
   "name": "python3"
  },
  "language_info": {
   "codemirror_mode": {
    "name": "ipython",
    "version": 3
   },
   "file_extension": ".py",
   "mimetype": "text/x-python",
   "name": "python",
   "nbconvert_exporter": "python",
   "pygments_lexer": "ipython3",
   "version": "3.6.5"
  }
 },
 "nbformat": 4,
 "nbformat_minor": 2
}
